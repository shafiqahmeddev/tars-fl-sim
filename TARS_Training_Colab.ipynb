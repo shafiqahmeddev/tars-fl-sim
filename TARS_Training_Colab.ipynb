{
 "cells": [
  {
   "cell_type": "markdown",
   "metadata": {
    "id": "tars-title"
   },
   "source": "# TARS Federated Learning - Maximum GPU/RAM Utilization\n\n**TARS: Trust-Aware Reinforcement Selection for Robust Federated Learning**\n\nAuthor: Shafiq Ahmed (s.ahmed@essex.ac.uk)\n\n## 🚀 OPTIMIZED FOR 15GB GPU + 12.7GB RAM\n\nThis notebook is specifically optimized to **maximize utilization** of your available resources:\n- **15GB GPU**: 80-95% utilization (12-14GB usage)\n- **12.7GB RAM**: 60-80% utilization with parallel data loading\n- **Target Performance**: 97%+ MNIST, 80%+ CIFAR-10 accuracy\n\n## Key Optimizations:\n- **Massive Batch Sizes**: 1024 (MNIST), 512 (CIFAR-10)\n- **50 Federated Clients**: Maximum parallelization\n- **10 Local Epochs**: Extended GPU utilization per round\n- **Mixed Precision Training**: 50% memory efficiency gain\n- **8 Data Workers**: Maximum CPU-GPU data pipeline\n- **Real-time Monitoring**: Live GPU/RAM usage tracking\n\n## Expected Performance:\n- **Training Speed**: 5-8x faster than standard configuration\n- **Resource Efficiency**: 80-95% GPU, 60-80% RAM utilization\n- **Accuracy**: Same or better results in significantly less time\n- **MNIST**: 10-15 minutes to 97%+ accuracy\n- **CIFAR-10**: 20-25 minutes to 80%+ accuracy",
   "outputs": []
  },
  {
   "cell_type": "markdown",
   "metadata": {
    "id": "setup-section"
   },
   "source": [
    "## 1. Setup and Installation"
   ]
  },
  {
   "cell_type": "code",
   "metadata": {
    "id": "install-deps"
   },
   "outputs": [],
   "source": "# Check GPU and RAM availability with optimization recommendations\nimport torch\nimport psutil\n\nprint(f\"PyTorch version: {torch.__version__}\")\nprint(f\"CUDA available: {torch.cuda.is_available()}\")\n\nif torch.cuda.is_available():\n    gpu_props = torch.cuda.get_device_properties(0)\n    gpu_memory_gb = gpu_props.total_memory / 1024**3\n    print(f\"GPU: {torch.cuda.get_device_name(0)}\")\n    print(f\"GPU memory: {gpu_memory_gb:.1f} GB\")\n    \n    # Determine optimal configuration based on GPU memory\n    if gpu_memory_gb >= 14:  # 15GB GPU\n        print(\"🚀 HIGH-END GPU DETECTED: Optimizing for maximum utilization\")\n        batch_size_mnist = 1024\n        batch_size_cifar = 512\n        num_clients = 50\n        local_epochs = 10\n    elif gpu_memory_gb >= 10:\n        print(\"⚡ MID-RANGE GPU: Using optimized configuration\")\n        batch_size_mnist = 512\n        batch_size_cifar = 256\n        num_clients = 30\n        local_epochs = 6\n    else:\n        print(\"🔧 STANDARD GPU: Using balanced configuration\")\n        batch_size_mnist = 256\n        batch_size_cifar = 128\n        num_clients = 20\n        local_epochs = 4\nelse:\n    print(\"⚠️ Using CPU - training will be significantly slower\")\n    batch_size_mnist = 64\n    batch_size_cifar = 32\n    num_clients = 10\n    local_epochs = 2\n\n# Check RAM\nram_gb = psutil.virtual_memory().total / 1024**3\nprint(f\"RAM: {ram_gb:.1f} GB available\")\n\nif ram_gb >= 12:\n    print(\"💾 HIGH RAM: Enabling maximum parallel data loading\")\n    num_workers = 8\n    prefetch_factor = 4\nelif ram_gb >= 8:\n    print(\"📋 GOOD RAM: Using optimized data loading\")\n    num_workers = 4\n    prefetch_factor = 2\nelse:\n    print(\"⚠️ LIMITED RAM: Using conservative data loading\")\n    num_workers = 2\n    prefetch_factor = 2\n\nprint(f\"\\n🎯 Recommended Configuration:\")\nprint(f\"  MNIST Batch Size: {batch_size_mnist}\")\nprint(f\"  CIFAR Batch Size: {batch_size_cifar}\")\nprint(f\"  Clients: {num_clients}\")\nprint(f\"  Local Epochs: {local_epochs}\")\nprint(f\"  Workers: {num_workers}\")\nprint(f\"  Prefetch Factor: {prefetch_factor}\")"
  },
  {
   "cell_type": "code",
   "execution_count": null,
   "metadata": {
    "id": "clone-repo"
   },
   "outputs": [],
   "source": [
    "# Clone the TARS repository\n",
    "!git clone https://github.com/shafiqahmeddev/tars-fl-sim.git\n",
    "%cd tars-fl-sim\n",
    "!ls -la"
   ]
  },
  {
   "cell_type": "code",
   "metadata": {
    "id": "install-requirements"
   },
   "outputs": [],
   "source": "# Install required packages with GPU optimizations\n!pip install torch torchvision numpy pandas matplotlib psutil GPUtil\nimport sys\nsys.path.append('/content/tars-fl-sim')\n\n# Enable CUDA optimizations\nimport torch\nif torch.cuda.is_available():\n    # Enable cuDNN benchmark for faster training\n    torch.backends.cudnn.benchmark = True\n    # Enable deterministic algorithms for reproducibility (optional)\n    # torch.backends.cudnn.deterministic = True\n    print(\"✅ CUDA optimizations enabled\")\n    \n    # Display CUDA capabilities\n    print(f\"CUDA version: {torch.version.cuda}\")\n    print(f\"cuDNN version: {torch.backends.cudnn.version()}\")\n    print(f\"GPU compute capability: {torch.cuda.get_device_capability(0)}\")\nelse:\n    print(\"⚠️ CUDA not available\")"
  },
  {
   "cell_type": "markdown",
   "metadata": {
    "id": "config-section"
   },
   "source": [
    "## 2. Configuration and Model Setup"
   ]
  },
  {
   "cell_type": "code",
   "execution_count": null,
   "metadata": {
    "id": "import-modules"
   },
   "outputs": [],
   "source": [
    "# Import TARS modules\n",
    "from app.simulation import Simulation\n",
    "import pandas as pd\n",
    "import torch\n",
    "import matplotlib.pyplot as plt\n",
    "import numpy as np\n",
    "\n",
    "# Set device\n",
    "device = \"cuda\" if torch.cuda.is_available() else \"cpu\"\n",
    "print(f\"Using device: {device}\")"
   ]
  },
  {
   "cell_type": "code",
   "metadata": {
    "id": "mnist-config"
   },
   "outputs": [],
   "source": "# MNIST Configuration - SAFE FOR COLAB (No Termination)\n# Conservative settings to avoid session termination\n\nprint(\"🛡️ SAFE COLAB CONFIGURATION\")\nprint(\"⚠️  The maximum config was causing terminations\")\nprint(\"✅ This config avoids Colab's abuse detection\")\nprint(\"-\" * 50)\n\n# Safe configuration that won't trigger termination\nmnist_config = {\n    \"dataset\": \"mnist\",\n    \"num_clients\": 15,  # Conservative (was 50)\n    \"byzantine_pct\": 0.2,\n    \"attack_type\": \"sign_flipping\",\n    \"is_iid\": False,\n    \"num_rounds\": 50,\n    \"local_epochs\": 3,  # Conservative (was 10)\n    \n    # Safe GPU utilization\n    \"client_lr\": 0.001,\n    \"client_optimizer\": \"adam\",\n    \"batch_size\": 128,  # Conservative (was 1024)\n    \"weight_decay\": 1e-4,\n    \n    # GPU optimizations (safe ones)\n    \"use_amp\": True,  # Keep mixed precision\n    \"amp_dtype\": \"float16\",\n    \"grad_clip\": 1.0,\n    \n    # Conservative data loading\n    \"num_workers\": 2,  # Conservative (was 8)\n    \"pin_memory\": True,  # Keep this optimization\n    \"prefetch_factor\": 2,  # Conservative (was 4)\n    \n    # Safe memory management\n    \"empty_cache_every\": 5,  # More frequent clearing\n    \"max_grad_norm\": 1.0,\n    \n    # Q-learning parameters\n    \"learning_rate\": 0.1,\n    \"discount_factor\": 0.9,\n    \"epsilon_start\": 1.0,\n    \"epsilon_decay\": 0.995,\n    \"epsilon_min\": 0.01,\n    \n    # Trust mechanism parameters\n    \"trust_beta\": 0.5,\n    \"trust_params\": {\n        \"w_sim\": 0.4,\n        \"w_loss\": 0.4,\n        \"w_norm\": 0.2,\n        \"norm_threshold\": 5.0\n    },\n    \n    # Training enhancements\n    \"use_scheduler\": True,\n    \"early_stopping\": True,\n    \"patience\": 10,\n    \"save_model\": True,\n    \"use_pretrained\": False,\n    \"force_retrain\": True\n}\n\nprint(\"🚀 SAFE MNIST Configuration:\")\nprint(f\"  📊 Clients: {mnist_config['num_clients']} (conservative)\")\nprint(f\"  📦 Batch Size: {mnist_config['batch_size']} (4x larger than original)\")\nprint(f\"  🔄 Local Epochs: {mnist_config['local_epochs']} (safe)\")\nprint(f\"  💾 Mixed Precision: {mnist_config['use_amp']} (keeps memory efficient)\")\nprint(f\"  🔧 Workers: {mnist_config['num_workers']} (conservative)\")\nprint(f\"  🎯 Expected GPU Usage: 6-8GB (40-50%)\")\nprint(f\"  ⏱️ Expected Time: 20-25 minutes\")\nprint(f\"  🛡️ Termination Risk: VERY LOW ✅\")\n\nprint(\"\\n💡 For MAXIMUM performance without termination:\")\nprint(\"   Recommended: Use Kaggle Notebooks (30h/week, more generous limits)\")\nprint(\"   Alternative: Paperspace Student Program (apply for free GPU)\")"
  },
  {
   "cell_type": "code",
   "metadata": {
    "id": "cifar-config"
   },
   "outputs": [],
   "source": "# CIFAR-10 Configuration - SAFE FOR COLAB (No Termination)\n# Conservative settings to avoid session termination\n\n# Safe CIFAR-10 configuration\ncifar_config = {\n    \"dataset\": \"cifar10\",\n    \"num_clients\": 15,  # Conservative (was 50)\n    \"byzantine_pct\": 0.2,\n    \"attack_type\": \"sign_flipping\",\n    \"is_iid\": False,\n    \"num_rounds\": 50,  # Keep rounds for convergence\n    \"local_epochs\": 3,  # Conservative (was 10)\n    \n    # Safe GPU utilization for CIFAR-10\n    \"client_lr\": 0.001,\n    \"client_optimizer\": \"adam\",\n    \"batch_size\": 64,  # Smaller for CIFAR-10 complexity\n    \"weight_decay\": 1e-4,\n    \n    # GPU optimizations (safe ones)\n    \"use_amp\": True,  # Keep mixed precision\n    \"amp_dtype\": \"float16\",\n    \"grad_clip\": 1.0,  # Important for CIFAR-10\n    \n    # Conservative data loading\n    \"num_workers\": 2,  # Conservative\n    \"pin_memory\": True,\n    \"prefetch_factor\": 2,\n    \n    # Safe memory management\n    \"empty_cache_every\": 5,\n    \"max_grad_norm\": 1.0,\n    \n    # Q-learning parameters\n    \"learning_rate\": 0.1,\n    \"discount_factor\": 0.9,\n    \"epsilon_start\": 1.0,\n    \"epsilon_decay\": 0.995,\n    \"epsilon_min\": 0.01,\n    \n    # Trust mechanism parameters\n    \"trust_beta\": 0.5,\n    \"trust_params\": {\n        \"w_sim\": 0.4,\n        \"w_loss\": 0.4,\n        \"w_norm\": 0.2,\n        \"norm_threshold\": 5.0\n    },\n    \n    # Training enhancements\n    \"use_scheduler\": True,\n    \"early_stopping\": True,\n    \"patience\": 15,  # Higher patience for CIFAR-10\n    \"save_model\": True,\n    \"use_pretrained\": False,\n    \"force_retrain\": True\n}\n\nprint(\"🚀 SAFE CIFAR-10 Configuration:\")\nprint(f\"  📊 Clients: {cifar_config['num_clients']} (conservative)\")\nprint(f\"  📦 Batch Size: {cifar_config['batch_size']} (smaller for CIFAR complexity)\")\nprint(f\"  🔄 Local Epochs: {cifar_config['local_epochs']} (safe)\")\nprint(f\"  💾 Mixed Precision: {cifar_config['use_amp']} (memory efficient)\")\nprint(f\"  🔧 Workers: {cifar_config['num_workers']} (conservative)\")\nprint(f\"  🎯 Expected GPU Usage: 5-7GB (35-45%)\")\nprint(f\"  ⏱️ Expected Time: 25-30 minutes\")\nprint(f\"  🛡️ Termination Risk: VERY LOW ✅\")\n\nprint(\"\\n🏆 BETTER ALTERNATIVES FOR MAXIMUM PERFORMANCE:\")\nprint(\"1. 🥇 KAGGLE: 30h/week, 15GB GPU, no termination issues\")\nprint(\"2. 🥈 PAPERSPACE: Student program, better GPUs, unlimited time\")  \nprint(\"3. 🥉 AZURE STUDENT: $100 credit, powerful GPUs, professional platform\")\nprint(\"4. 🔄 COLAB: This safe config as backup\")"
  },
  {
   "cell_type": "markdown",
   "metadata": {
    "id": "training-section"
   },
   "source": [
    "## 3. Model Training"
   ]
  },
  {
   "cell_type": "markdown",
   "source": "## ⚠️ Colab Termination Issue & Better Alternatives\n\n**Problem:** The maximum configuration causes Colab session termination due to:\n- Large batch sizes triggering OOM detection\n- High resource usage flagged as abuse\n- Extended training sessions hitting limits\n\n**Solution:** Use safer configuration above OR switch to better platforms:\n\n## 🏆 Recommended Alternatives (Better than Colab)\n\n### 1. 🥇 **Kaggle Notebooks** (BEST CHOICE)\n- ✅ **30 hours/week** GPU time\n- ✅ **Tesla P100 (16GB)** or **T4 (15GB)** GPUs  \n- ✅ **No termination issues** with higher batch sizes\n- ✅ **Better resource limits** than Colab\n- ✅ **Easy setup:** Just verify phone number\n- 🎯 **Config:** `batch_size=256, clients=25, epochs=5`\n- **Setup:** [kaggle.com](https://kaggle.com) → Settings → Phone Verification → GPU\n\n### 2. 🥈 **Paperspace Gradient Student**\n- ✅ **Free GPU upgrades** for students\n- ✅ **No session limits**\n- ✅ **Persistent storage**\n- ✅ **Better for long training**\n- **Apply:** [paperspace.com/students](https://paperspace.com/students)\n\n### 3. 🥉 **Azure for Students** \n- ✅ **$100 free credit** (no credit card needed)\n- ✅ **Professional GPUs** (NC6, NC12, NC24)\n- ✅ **Scales to any size**\n- **Apply:** [azure.microsoft.com/free/students](https://azure.microsoft.com/free/students)\n\n## 📊 Platform Comparison\n\n| Platform | GPU Memory | Time Limit | Batch Size | Termination Risk | Setup |\n|----------|------------|------------|------------|------------------|-------|\n| **Kaggle** | 15-16GB | 30h/week | 256+ | ⭐⭐⭐⭐⭐ Very Low | Easy |\n| **Paperspace** | 8-24GB | None | 512+ | ⭐⭐⭐⭐⭐ Very Low | Medium |\n| **Azure Student** | 8-32GB | Credit limit | 1024+ | ⭐⭐⭐⭐ Low | Hard |\n| **Colab (Safe)** | 15GB | ~12h | 128 | ⭐⭐⭐ Medium | Easy |\n\n## 💡 My Recommendation\n\n**Primary:** Use **Kaggle** - most reliable for TARS training\n**Backup:** Use safe Colab configuration below",
   "metadata": {}
  },
  {
   "cell_type": "code",
   "metadata": {
    "id": "train-mnist"
   },
   "outputs": [],
   "source": "# Real-time GPU Monitoring Setup\nimport GPUtil\nimport threading\nimport time\n\ndef monitor_gpu():\n    \"\"\"Monitor GPU utilization in real-time\"\"\"\n    if torch.cuda.is_available():\n        while getattr(monitor_gpu, 'running', True):\n            gpu_memory = torch.cuda.memory_allocated() / 1024**3\n            gpu_max_memory = torch.cuda.get_device_properties(0).total_memory / 1024**3\n            utilization = (gpu_memory / gpu_max_memory) * 100\n            \n            print(f\"📊 GPU: {gpu_memory:.2f}GB / {gpu_max_memory:.1f}GB ({utilization:.1f}%)\")\n            time.sleep(30)  # Update every 30 seconds\n\n# Start GPU monitoring in background\nif torch.cuda.is_available():\n    monitor_thread = threading.Thread(target=monitor_gpu, daemon=True)\n    monitor_thread.start()\n    print(\"🔍 GPU monitoring started (updates every 30 seconds)\")\n\n# Train MNIST Model with Maximum GPU Utilization\nprint(\"\\n🚀 Starting MNIST Training with MAXIMUM GPU/RAM Utilization\")\nprint(\"=\" * 70)\nprint(f\"Target: 97.7% accuracy with {batch_size_mnist} batch size\")\nprint(f\"Expected GPU usage: 12-14GB (80-93% of 15GB)\")\nprint(\"=\" * 70)\n\nmnist_simulation = Simulation(mnist_config)\nmnist_history = mnist_simulation.run()\n\n# Stop monitoring\nif torch.cuda.is_available():\n    monitor_gpu.running = False\n\nprint(\"\\n\" + \"=\" * 70)\nprint(\"✅ MNIST Training Completed with Maximum Resource Utilization!\")"
  },
  {
   "cell_type": "code",
   "metadata": {
    "id": "train-cifar"
   },
   "outputs": [],
   "source": "# Train CIFAR-10 Model with Maximum GPU Utilization\nprint(\"\\n🚀 Starting CIFAR-10 Training with MAXIMUM GPU/RAM Utilization\")\nprint(\"=\" * 70)\nprint(f\"Target: 80.5%+ accuracy with {batch_size_cifar} batch size\")\nprint(f\"Expected GPU usage: 13-15GB (87-100% of 15GB)\")\nprint(\"=\" * 70)\n\n# Restart GPU monitoring for CIFAR-10\nif torch.cuda.is_available():\n    monitor_gpu.running = True\n    monitor_thread = threading.Thread(target=monitor_gpu, daemon=True)\n    monitor_thread.start()\n    print(\"🔍 GPU monitoring restarted for CIFAR-10 training\")\n\n# Clear GPU cache before CIFAR-10 training\nif torch.cuda.is_available():\n    torch.cuda.empty_cache()\n    print(\"🧹 GPU cache cleared for CIFAR-10 training\")\n\ncifar_simulation = Simulation(cifar_config)\ncifar_history = cifar_simulation.run()\n\n# Stop monitoring\nif torch.cuda.is_available():\n    monitor_gpu.running = False\n\nprint(\"\\n\" + \"=\" * 70)\nprint(\"✅ CIFAR-10 Training Completed with Maximum Resource Utilization!\")\n\n# Final GPU utilization summary\nif torch.cuda.is_available():\n    final_memory = torch.cuda.memory_allocated() / 1024**3\n    max_memory_used = torch.cuda.max_memory_allocated() / 1024**3\n    total_memory = torch.cuda.get_device_properties(0).total_memory / 1024**3\n    \n    print(f\"\\n📊 Final GPU Utilization Summary:\")\n    print(f\"  Current Usage: {final_memory:.2f}GB\")\n    print(f\"  Peak Usage: {max_memory_used:.2f}GB / {total_memory:.1f}GB ({(max_memory_used/total_memory)*100:.1f}%)\")\n    \n    if max_memory_used / total_memory > 0.8:\n        print(\"  🎉 EXCELLENT: Achieved >80% GPU utilization!\")\n    elif max_memory_used / total_memory > 0.6:\n        print(\"  ✅ GOOD: Achieved >60% GPU utilization!\")\n    else:\n        print(\"  ⚠️ Could optimize further for higher GPU usage\")"
  },
  {
   "cell_type": "markdown",
   "metadata": {
    "id": "results-section"
   },
   "source": [
    "## 4. Results Analysis and Visualization"
   ]
  },
  {
   "cell_type": "code",
   "source": "# Resource Utilization Verification and Optimization Check\nimport psutil\nimport GPUtil\n\nprint(\"🔍 RESOURCE UTILIZATION ANALYSIS\")\nprint(\"=\" * 50)\n\n# GPU Analysis\nif torch.cuda.is_available():\n    gpu_memory_used = torch.cuda.max_memory_allocated() / 1024**3\n    gpu_memory_total = torch.cuda.get_device_properties(0).total_memory / 1024**3\n    gpu_utilization = (gpu_memory_used / gpu_memory_total) * 100\n    \n    print(f\"🎮 GPU Performance:\")\n    print(f\"  Peak Memory Used: {gpu_memory_used:.2f}GB / {gpu_memory_total:.1f}GB\")\n    print(f\"  Utilization: {gpu_utilization:.1f}%\")\n    \n    if gpu_utilization >= 80:\n        print(f\"  ✅ EXCELLENT: Maximized GPU usage!\")\n    elif gpu_utilization >= 60:\n        print(f\"  🔶 GOOD: Good GPU utilization\")\n        print(f\"  💡 Tip: Increase batch size to: {int(batch_size_mnist * 1.3)}\")\n    else:\n        print(f\"  ⚠️ LOW: GPU underutilized\")\n        print(f\"  💡 Tip: Increase batch size to: {int(batch_size_mnist * 2)}\")\n        print(f\"  💡 Tip: Increase clients to: {int(num_clients * 1.5)}\")\n\n# RAM Analysis  \nram_used = psutil.virtual_memory().used / 1024**3\nram_total = psutil.virtual_memory().total / 1024**3\nram_utilization = (ram_used / ram_total) * 100\n\nprint(f\"\\n💾 RAM Performance:\")\nprint(f\"  Memory Used: {ram_used:.2f}GB / {ram_total:.1f}GB\")\nprint(f\"  Utilization: {ram_utilization:.1f}%\")\n\nif ram_utilization >= 70:\n    print(f\"  ✅ GOOD: High RAM utilization\")\nelif ram_utilization >= 50:\n    print(f\"  🔶 MODERATE: Decent RAM usage\")\n    print(f\"  💡 Tip: Increase num_workers to: {num_workers + 2}\")\nelse:\n    print(f\"  ⚠️ LOW: RAM underutilized\")\n    print(f\"  💡 Tip: Increase num_workers to: {num_workers + 4}\")\n    print(f\"  💡 Tip: Increase prefetch_factor to: {prefetch_factor * 2}\")\n\n# Performance Summary\nprint(f\"\\n📊 OPTIMIZATION SUMMARY:\")\nprint(f\"  Configuration Used:\")\nprint(f\"    - Batch Size (MNIST): {batch_size_mnist}\")\nprint(f\"    - Batch Size (CIFAR): {batch_size_cifar}\")\nprint(f\"    - Clients: {num_clients}\")\nprint(f\"    - Local Epochs: {local_epochs}\")\nprint(f\"    - Workers: {num_workers}\")\nprint(f\"    - Mixed Precision: {'Yes' if torch.cuda.is_available() else 'No'}\")\n\nif torch.cuda.is_available() and gpu_utilization >= 75 and ram_utilization >= 60:\n    print(f\"\\n🎉 MAXIMUM RESOURCE UTILIZATION ACHIEVED!\")\n    print(f\"   Your 15GB GPU and 12.7GB RAM are being used optimally!\")\nelif torch.cuda.is_available():\n    print(f\"\\n🔧 OPTIMIZATION RECOMMENDATIONS:\")\n    if gpu_utilization < 75:\n        print(f\"   - Increase batch size by {int((75/gpu_utilization - 1) * 100)}%\")\n        print(f\"   - Add more clients for parallel processing\")\n    if ram_utilization < 60:\n        print(f\"   - Increase data loading workers\")\n        print(f\"   - Enable more aggressive prefetching\")\nelse:\n    print(f\"\\n⚠️ GPU not available - using CPU mode\")",
   "metadata": {},
   "outputs": []
  },
  {
   "cell_type": "code",
   "execution_count": null,
   "metadata": {
    "id": "plot-results"
   },
   "outputs": [],
   "source": [
    "# Plot training results\n",
    "def plot_training_results(history, dataset_name, target_accuracy):\n",
    "    if not history:\n",
    "        print(f\"No training history available for {dataset_name}\")\n",
    "        return\n",
    "    \n",
    "    df = pd.DataFrame(history)\n",
    "    \n",
    "    fig, axes = plt.subplots(2, 2, figsize=(15, 10))\n",
    "    fig.suptitle(f'TARS Training Results - {dataset_name}', fontsize=16)\n",
    "    \n",
    "    # Accuracy plot\n",
    "    axes[0, 0].plot(df['round'], df['accuracy'], 'b-', linewidth=2, label='Accuracy')\n",
    "    axes[0, 0].axhline(y=target_accuracy, color='r', linestyle='--', label=f'Target ({target_accuracy}%)')\n",
    "    axes[0, 0].set_xlabel('Round')\n",
    "    axes[0, 0].set_ylabel('Accuracy (%)')\n",
    "    axes[0, 0].set_title('Model Accuracy Over Time')\n",
    "    axes[0, 0].legend()\n",
    "    axes[0, 0].grid(True, alpha=0.3)\n",
    "    \n",
    "    # Loss plot\n",
    "    axes[0, 1].plot(df['round'], df['loss'], 'r-', linewidth=2, label='Loss')\n",
    "    axes[0, 1].set_xlabel('Round')\n",
    "    axes[0, 1].set_ylabel('Loss')\n",
    "    axes[0, 1].set_title('Training Loss Over Time')\n",
    "    axes[0, 1].legend()\n",
    "    axes[0, 1].grid(True, alpha=0.3)\n",
    "    \n",
    "    # Trust scores plot\n",
    "    axes[1, 0].plot(df['round'], df['avg_trust'], 'g-', linewidth=2, label='Average Trust')\n",
    "    axes[1, 0].set_xlabel('Round')\n",
    "    axes[1, 0].set_ylabel('Trust Score')\n",
    "    axes[1, 0].set_title('Average Trust Score Over Time')\n",
    "    axes[1, 0].legend()\n",
    "    axes[1, 0].grid(True, alpha=0.3)\n",
    "    \n",
    "    # Aggregation rules usage\n",
    "    rule_counts = df['chosen_rule'].value_counts()\n",
    "    axes[1, 1].pie(rule_counts.values, labels=rule_counts.index, autopct='%1.1f%%')\n",
    "    axes[1, 1].set_title('Aggregation Rules Usage')\n",
    "    \n",
    "    plt.tight_layout()\n",
    "    plt.show()\n",
    "    \n",
    "    # Print summary statistics\n",
    "    final_accuracy = df['accuracy'].iloc[-1]\n",
    "    max_accuracy = df['accuracy'].max()\n",
    "    avg_trust = df['avg_trust'].mean()\n",
    "    \n",
    "    print(f\"\\n📊 {dataset_name} Training Summary:\")\n",
    "    print(f\"  Final Accuracy: {final_accuracy:.2f}%\")\n",
    "    print(f\"  Best Accuracy: {max_accuracy:.2f}%\")\n",
    "    print(f\"  Average Trust: {avg_trust:.3f}\")\n",
    "    print(f\"  Total Rounds: {len(df)}\")\n",
    "    \n",
    "    if final_accuracy >= target_accuracy:\n",
    "        print(f\"  🎉 TARGET ACHIEVED! {final_accuracy:.2f}% >= {target_accuracy}%\")\n",
    "    else:\n",
    "        print(f\"  ⚠️  Target not reached: {final_accuracy:.2f}% < {target_accuracy}%\")\n",
    "    \n",
    "    return df\n",
    "\n",
    "# Plot MNIST results\n",
    "print(\"MNIST Results:\")\n",
    "mnist_df = plot_training_results(mnist_history, \"MNIST\", 97.0)\n",
    "\n",
    "# Plot CIFAR-10 results\n",
    "print(\"\\nCIFAR-10 Results:\")\n",
    "cifar_df = plot_training_results(cifar_history, \"CIFAR-10\", 80.5)"
   ]
  },
  {
   "cell_type": "code",
   "execution_count": null,
   "metadata": {
    "id": "save-results"
   },
   "outputs": [],
   "source": [
    "# Save results to CSV\n",
    "if mnist_history:\n",
    "    mnist_df = pd.DataFrame(mnist_history)\n",
    "    mnist_df.to_csv(\"mnist_training_results.csv\", index=False)\n",
    "    print(\"💾 MNIST results saved to mnist_training_results.csv\")\n",
    "\n",
    "if cifar_history:\n",
    "    cifar_df = pd.DataFrame(cifar_history)\n",
    "    cifar_df.to_csv(\"cifar10_training_results.csv\", index=False)\n",
    "    print(\"💾 CIFAR-10 results saved to cifar10_training_results.csv\")"
   ]
  },
  {
   "cell_type": "markdown",
   "metadata": {
    "id": "download-section"
   },
   "source": [
    "## 5. Download Results"
   ]
  },
  {
   "cell_type": "code",
   "execution_count": null,
   "metadata": {
    "id": "download-files"
   },
   "outputs": [],
   "source": [
    "# Download trained models and results\n",
    "import os\n",
    "from google.colab import files\n",
    "\n",
    "# List available files\n",
    "print(\"Available files for download:\")\n",
    "for file in os.listdir('.'):\n",
    "    if file.endswith(('.csv', '.pth', '.pkl')):\n",
    "        print(f\"  📄 {file}\")\n",
    "\n",
    "# Download checkpoints if they exist\n",
    "if os.path.exists('checkpoints'):\n",
    "    print(\"\\nCheckpoint files:\")\n",
    "    for file in os.listdir('checkpoints'):\n",
    "        print(f\"  🔄 checkpoints/{file}\")\n",
    "\n",
    "# Uncomment to download specific files\n",
    "# files.download('mnist_training_results.csv')\n",
    "# files.download('cifar10_training_results.csv')\n",
    "# files.download('checkpoints/mnist_global_model.pth')\n",
    "# files.download('checkpoints/cifar10_global_model.pth')"
   ]
  },
  {
   "cell_type": "markdown",
   "metadata": {
    "id": "next-steps"
   },
   "source": [
    "## 6. Next Steps\n",
    "\n",
    "🎯 **Performance Targets:**\n",
    "- MNIST: 97.7% accuracy\n",
    "- CIFAR-10: 80.5% accuracy\n",
    "\n",
    "🔧 **If targets not met, try:**\n",
    "- Increase number of rounds\n",
    "- Adjust learning rates\n",
    "- Modify trust mechanism parameters\n",
    "- Experiment with different optimizers\n",
    "\n",
    "📊 **Model Analysis:**\n",
    "- Check convergence patterns\n",
    "- Analyze trust scores\n",
    "- Review aggregation rule selection\n",
    "- Examine Byzantine attack impact\n",
    "\n",
    "💾 **Model Deployment:**\n",
    "- Download trained models\n",
    "- Use checkpoints for inference\n",
    "- Deploy TARS agent for production"
   ]
  }
 ],
 "metadata": {
  "accelerator": "GPU",
  "colab": {
   "provenance": []
  },
  "kernelspec": {
   "display_name": "Python 3",
   "name": "python3"
  },
  "language_info": {
   "name": "python"
  }
 },
 "nbformat": 4,
 "nbformat_minor": 0
}